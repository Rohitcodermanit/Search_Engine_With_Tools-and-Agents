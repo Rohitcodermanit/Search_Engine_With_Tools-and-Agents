{
 "cells": [
  {
   "cell_type": "markdown",
   "id": "42ef8607",
   "metadata": {},
   "source": [
    "# search engine with tools and agents"
   ]
  },
  {
   "cell_type": "code",
   "execution_count": 2,
   "id": "272f4d6e",
   "metadata": {},
   "outputs": [],
   "source": [
    "# Arxiv--Research \n",
    "# Tools creation\n",
    "from langchain_community.tools import ArxivQueryRun,WikipediaQueryRun\n",
    "from langchain_community.utilities import ArxivAPIWrapper,WikipediaAPIWrapper"
   ]
  },
  {
   "cell_type": "code",
   "execution_count": 11,
   "id": "c22dc674",
   "metadata": {},
   "outputs": [
    {
     "data": {
      "text/plain": [
       "'wikipedia'"
      ]
     },
     "execution_count": 11,
     "metadata": {},
     "output_type": "execute_result"
    }
   ],
   "source": [
    "#used the inbuild tools of wikipedia\n",
    "api_wrapper=WikipediaAPIWrapper(top_k_results=1,doc_content_chars_max=250)\n",
    "wiki=WikipediaQueryRun(api_wrapper=api_wrapper)\n",
    "wiki.name"
   ]
  },
  {
   "cell_type": "code",
   "execution_count": 12,
   "id": "a137f0ff",
   "metadata": {},
   "outputs": [
    {
     "data": {
      "text/plain": [
       "ArxivQueryRun(api_wrapper=ArxivAPIWrapper(arxiv_search=<class 'arxiv.Search'>, arxiv_exceptions=(<class 'arxiv.ArxivError'>, <class 'arxiv.UnexpectedEmptyPageError'>, <class 'arxiv.HTTPError'>), top_k_results=3, ARXIV_MAX_QUERY_LENGTH=300, continue_on_failure=False, load_max_docs=100, load_all_available_meta=False, doc_content_chars_max=4000))"
      ]
     },
     "execution_count": 12,
     "metadata": {},
     "output_type": "execute_result"
    }
   ],
   "source": [
    "api_wrapper_arxiv=ArxivAPIWrapper(top_k_result=1,doc_content_chars_max=250)\n",
    "arxiv=ArxivQueryRun(api_wrapper_arxiv=api_wrapper_arxiv)\n",
    "arxiv"
   ]
  },
  {
   "cell_type": "code",
   "execution_count": 15,
   "id": "4b765141",
   "metadata": {},
   "outputs": [],
   "source": [
    "tools=[wiki,arxiv]"
   ]
  },
  {
   "cell_type": "code",
   "execution_count": 17,
   "id": "a06f4cea",
   "metadata": {},
   "outputs": [],
   "source": [
    "import os\n",
    "from dotenv import load_dotenv\n",
    "load_dotenv() # load all environment variables\n",
    "os.environ[\"HF_TOKEN\"] = os.getenv(\"HF_TOKEN\")"
   ]
  },
  {
   "cell_type": "code",
   "execution_count": 14,
   "id": "fb27ca7c",
   "metadata": {},
   "outputs": [],
   "source": [
    "## custom tools RAG Tool\n",
    "from langchain_community.document_loaders import WebBaseLoader\n",
    "from langchain_community.vectorstores import FAISS\n",
    "from langchain_huggingface import HuggingFaceEmbeddings\n",
    "from langchain_text_splitters import RecursiveCharacterTextSplitter\n"
   ]
  },
  {
   "cell_type": "code",
   "execution_count": 19,
   "id": "1835b3fa",
   "metadata": {},
   "outputs": [],
   "source": [
    "embedding=HuggingFaceEmbeddings(model_name=\"all-MiniLM-L6-v2\")\n",
    "loader=WebBaseLoader(\"https://python.langchain.com/docs/introduction/?_gl=1*16mun4n*_gcl_au*NTM5MDQ1OTA1LjE3NTkwMzY1Mzg.*_ga*MzcyMDU5MzM5LjE3NTkwMzY1Mzg.*_ga_47WX3HKKY2*czE3NjAyNzE2MjMkbzkkZzAkdDE3NjAyNzE2MjMkajYwJGwwJGgw\")\n",
    "docs=loader.load()\n",
    "documents=RecursiveCharacterTextSplitter(chunk_size=1000,chunk_overlap=200).split_documents(docs)\n",
    "vectordb=FAISS.from_documents(documents,embedding)\n",
    "retriever=vectordb.as_retriever()"
   ]
  },
  {
   "cell_type": "code",
   "execution_count": 20,
   "id": "4970e2ee",
   "metadata": {},
   "outputs": [
    {
     "data": {
      "text/plain": [
       "'langchain-search'"
      ]
     },
     "execution_count": 20,
     "metadata": {},
     "output_type": "execute_result"
    }
   ],
   "source": [
    "from langchain.tools.retriever import create_retriever_tool\n",
    "retriever_tool=create_retriever_tool(retriever,\"langchain-search\",\"search any informaton about langsmith\")\n",
    "\n",
    "retriever_tool.name"
   ]
  },
  {
   "cell_type": "code",
   "execution_count": 21,
   "id": "5b0b7690",
   "metadata": {},
   "outputs": [
    {
     "data": {
      "text/plain": [
       "[WikipediaQueryRun(api_wrapper=WikipediaAPIWrapper(wiki_client=<module 'wikipedia' from 'd:\\\\AI\\\\langchain\\\\venv\\\\Lib\\\\site-packages\\\\wikipedia\\\\__init__.py'>, top_k_results=1, lang='en', load_all_available_meta=False, doc_content_chars_max=250)),\n",
       " ArxivQueryRun(api_wrapper=ArxivAPIWrapper(arxiv_search=<class 'arxiv.Search'>, arxiv_exceptions=(<class 'arxiv.ArxivError'>, <class 'arxiv.UnexpectedEmptyPageError'>, <class 'arxiv.HTTPError'>), top_k_results=3, ARXIV_MAX_QUERY_LENGTH=300, continue_on_failure=False, load_max_docs=100, load_all_available_meta=False, doc_content_chars_max=4000)),\n",
       " Tool(name='langchain-search', description='search any informaton about langsmith', args_schema=<class 'langchain_core.tools.retriever.RetrieverInput'>, func=functools.partial(<function _get_relevant_documents at 0x00000180AA7462A0>, retriever=VectorStoreRetriever(tags=['FAISS', 'HuggingFaceEmbeddings'], vectorstore=<langchain_community.vectorstores.faiss.FAISS object at 0x00000180CFF7B5F0>, search_kwargs={}), document_prompt=PromptTemplate(input_variables=['page_content'], input_types={}, partial_variables={}, template='{page_content}'), document_separator='\\n\\n', response_format='content'), coroutine=functools.partial(<function _aget_relevant_documents at 0x00000180AA7463E0>, retriever=VectorStoreRetriever(tags=['FAISS', 'HuggingFaceEmbeddings'], vectorstore=<langchain_community.vectorstores.faiss.FAISS object at 0x00000180CFF7B5F0>, search_kwargs={}), document_prompt=PromptTemplate(input_variables=['page_content'], input_types={}, partial_variables={}, template='{page_content}'), document_separator='\\n\\n', response_format='content'))]"
      ]
     },
     "execution_count": 21,
     "metadata": {},
     "output_type": "execute_result"
    }
   ],
   "source": [
    "tools=[wiki,arxiv,retriever_tool]\n",
    "\n",
    "tools"
   ]
  },
  {
   "cell_type": "code",
   "execution_count": 24,
   "id": "0d47c055",
   "metadata": {},
   "outputs": [],
   "source": [
    "## Run all this tools with agents and llm models \n",
    "\n",
    "## tools,LLM-->agengtsExecutor\n",
    "from langchain_groq import ChatGroq\n",
    "from dotenv import load_dotenv\n",
    "load_dotenv()\n",
    "\n",
    "import os\n",
    "\n",
    "groq_api_key=os.getenv('GROQ_API_KEY')\n",
    "llm=ChatGroq(groq_api_key=groq_api_key,model=\"Llama3-8b-8192\")"
   ]
  },
  {
   "cell_type": "code",
   "execution_count": null,
   "id": "14410e04",
   "metadata": {},
   "outputs": [],
   "source": [
    "## prompt Template\n",
    "from smolagents import CodeAgent\n",
    "\n",
    "system_prompt = \"\"\"\n",
    "You are a helpful AI assistant that can use external tools.\n",
    "You can call tools to perform tasks such as math or data operations.\n",
    "When you use a tool, explain your reasoning briefly first.\n",
    "Always return a clear final answer.\n",
    "\"\"\"\n",
    "agent = CodeAgent(\n",
    "    model=llm,                # equivalent to 'llm' in LangChain\n",
    "    tools=tools,              # list of Tool objects\n",
    "    system_prompt=system_prompt,  # equivalent to the pulled prompt\n",
    "    max_steps=4, \n",
    "    verbose=True   # will print reasoning steps: which tool was called, the input/output, etc.\n",
    ")\n",
    "\n",
    "question=\"what is machine learing \"\n",
    "result=agent.run(question)"
   ]
  }
 ],
 "metadata": {
  "kernelspec": {
   "display_name": "venv",
   "language": "python",
   "name": "python3"
  },
  "language_info": {
   "codemirror_mode": {
    "name": "ipython",
    "version": 3
   },
   "file_extension": ".py",
   "mimetype": "text/x-python",
   "name": "python",
   "nbconvert_exporter": "python",
   "pygments_lexer": "ipython3",
   "version": "3.12.0"
  }
 },
 "nbformat": 4,
 "nbformat_minor": 5
}
